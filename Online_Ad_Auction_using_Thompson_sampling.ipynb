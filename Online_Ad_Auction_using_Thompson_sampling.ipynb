{
 "cells": [
  {
   "cell_type": "markdown",
   "metadata": {},
   "source": [
    "# Running ad auctions using Thompson sampling"
   ]
  },
  {
   "cell_type": "markdown",
   "metadata": {},
   "source": [
    "## 1. Python modules"
   ]
  },
  {
   "cell_type": "code",
   "execution_count": null,
   "metadata": {},
   "outputs": [],
   "source": [
    "#---import modules\n",
    "import time\n",
    "import numpy as np\n",
    "import random\n",
    "from scipy.stats import beta\n",
    "from matplotlib import pyplot as plt\n",
    "%matplotlib inline"
   ]
  },
  {
   "cell_type": "markdown",
   "metadata": {},
   "source": [
    "## 2. Auction data"
   ]
  },
  {
   "cell_type": "markdown",
   "metadata": {},
   "source": [
    "### Advertiser data"
   ]
  },
  {
   "cell_type": "code",
   "execution_count": null,
   "metadata": {},
   "outputs": [],
   "source": [
    "#---advertisers names\n",
    "ads = ['crypto_magic', 'green_energy', 'infini_waves']\n",
    "\n",
    "#---advertisers bids (in Euros per click)\n",
    "bid = {'crypto_magic': 0.7,\n",
    "       'green_energy': 0.5,\n",
    "       'infini_waves': 0.4}\n",
    "\n",
    "#---let's assign colors to ads to make visualizing them easy\n",
    "col = {'crypto_magic': 'red',\n",
    "       'green_energy': 'green',\n",
    "       'infini_waves': 'blue'}"
   ]
  },
  {
   "cell_type": "markdown",
   "metadata": {},
   "source": [
    "### Historical views and clicks data"
   ]
  },
  {
   "cell_type": "code",
   "execution_count": null,
   "metadata": {},
   "outputs": [],
   "source": [
    "#---nb of views (nb of times each ad was displayed on the banner)\n",
    "views = {'crypto_magic': 300,\n",
    "         'green_energy': 140,\n",
    "         'infini_waves': 60}\n",
    "\n",
    "#---nb of clicks (nb of times each ad was clicked on when it was displayed on the banner)\n",
    "clicks = {'crypto_magic': 9,\n",
    "          'green_energy': 3,\n",
    "          'infini_waves': 2}\n",
    "\n",
    "#---uniform historical data\n",
    "#views = {ad:100 for ad in ads}\n",
    "#clicks = {ad:2 for ad in ads}\n",
    "\n",
    "#---ads historical click-through rates (CTR) based on nb of views and clicks\n",
    "ctr_hist = {ad:clicks[ad]/views[ad] for ad in ads}\n",
    "\n",
    "#---ads historical expected value (EV) based on historical CTRs\n",
    "ev_hist = {ad:bid[ad]*ctr_hist[ad] for ad in ads}\n",
    "\n",
    "#---summary of the available data\n",
    "print('Advertiser\\tBid\\tViews\\tClicks\\tHist. CTR\\tHist. EV')\n",
    "print('----------\\t---\\t-----\\t------\\t---------\\t---------')\n",
    "for ad in ads:    \n",
    "    print('%s\\t%.2f\\t%d\\t%d\\t%.4f\\t\\t%.4f' % (ad,bid[ad],views[ad],clicks[ad],ctr_hist[ad],ev_hist[ad]))"
   ]
  },
  {
   "cell_type": "markdown",
   "metadata": {},
   "source": [
    "### Unknown data to be learned using observations"
   ]
  },
  {
   "cell_type": "code",
   "execution_count": null,
   "metadata": {},
   "outputs": [],
   "source": [
    "#---ads true click-through-rates (CTR) ==> unknown data to the decision-maker\n",
    "ctr_true = {'crypto_magic': 0.025,\n",
    "            'green_energy': 0.012,\n",
    "            'infini_waves': 0.055}\n",
    "\n",
    "#---ads true expected value (EV)\n",
    "ev_true = {ad:bid[ad]*ctr_true[ad] for ad in ads}\n",
    "\n",
    "\n",
    "#---summary of true data (unavailable for decision-making)\n",
    "print('Advertiser\\tBid\\tTrue CTR\\tTrue EV')\n",
    "print('----------\\t---\\t--------\\t-------')\n",
    "for ad in ads:\n",
    "    print('%s\\t%.2f\\t%.4f\\t\\t%.4f' % (ad,bid[ad],ctr_true[ad],ev_true[ad]))\n",
    "    \n",
    "#---determination of the ad maximizing the true EV (best ad)\n",
    "arg = None\n",
    "val = 0.0\n",
    "for ad in ads:\n",
    "    if ev_true[ad] > val:\n",
    "        val = ev_true[ad]\n",
    "        arg = ad\n",
    "best = arg\n",
    "print('\\nBest ad:',best)    "
   ]
  },
  {
   "cell_type": "markdown",
   "metadata": {},
   "source": [
    "## 3. Learning and optimization"
   ]
  },
  {
   "cell_type": "markdown",
   "metadata": {},
   "source": [
    "### Initialization of prior distributions\n",
    "We use Beta distributions for priors, i.e. our belief of click-through-rates. The Beta distribution has two parameters: $a$ and $b$</li>\n",
    "<ul>\n",
    "<li>$a$ represents the number of successes</li>\n",
    "<li>$b$ represents the number of failures</li>\n",
    "</ul>\n",
    "The mean of the Beta distribution is: $\\frac{a}{a+b}$"
   ]
  },
  {
   "cell_type": "code",
   "execution_count": null,
   "metadata": {},
   "outputs": [],
   "source": [
    "def initialization():    \n",
    "    #a = {ad:2 for ad in ads}\n",
    "    #b = {ad:100 for ad in ads}\n",
    "    a = {ad:clicks[ad] for ad in ads}\n",
    "    b = {ad:(views[ad]-clicks[ad]) for ad in ads}    \n",
    "    return a,b"
   ]
  },
  {
   "cell_type": "markdown",
   "metadata": {},
   "source": [
    "### Thompson sampling (TS) algorithm\n",
    "\n",
    "The TS algorithm runs for $T$ time periods. At each time period, it performs the following steps:\n",
    "<ul>\n",
    "<li>For each ad, estimate CTR by sampling prior distributions</li>\n",
    "<li>Select the ad with highest estimated expected value</li>\n",
    "<li>Display the ad and observe the outcome (click or no click)</li>\n",
    "<li>Update the parameters of the prior of the selected ad according to the observed outcome</li>    \n",
    "</ul>"
   ]
  },
  {
   "cell_type": "code",
   "execution_count": null,
   "metadata": {},
   "outputs": [],
   "source": [
    "def TS():\n",
    "    a,b = initialization()\n",
    "    ctr_prior = {t:{} for t in range(T)}\n",
    "    reward = []\n",
    "    regret = []\n",
    "\n",
    "    for t in range(T):\n",
    "\n",
    "        #use prior to estimate ctr \n",
    "        for ad in ads:\n",
    "            ctr_prior[t][ad] = np.random.beta(a[ad],b[ad])\n",
    "\n",
    "        #---select action\n",
    "        arg = None\n",
    "        val = 0.0\n",
    "        for ad in ads:\n",
    "            if bid[ad]*ctr_prior[t][ad] > val:\n",
    "                val = bid[ad]*ctr_prior[t][ad] \n",
    "                arg = ad\n",
    "\n",
    "        #---simulate click-through based on selected ad and calculate the reward\n",
    "        click = np.random.binomial(1,ctr_true[arg])\n",
    "        reward.append(bid[arg]*click)\n",
    "        \n",
    "        #---calculate the regret of this decision        \n",
    "        regret.append(ev_true[best] - ev_true[arg])\n",
    "\n",
    "        #---update parameters of prior based on observation        \n",
    "        if click == 1:\n",
    "            a[arg] += 1\n",
    "        else:\n",
    "            b[arg] += 1\n",
    "\n",
    "    return reward,regret,ctr_prior,a,b"
   ]
  },
  {
   "cell_type": "markdown",
   "metadata": {},
   "source": [
    "## 4. Simulations"
   ]
  },
  {
   "cell_type": "markdown",
   "metadata": {},
   "source": [
    "### Visualization of prior distributions"
   ]
  },
  {
   "cell_type": "code",
   "execution_count": null,
   "metadata": {},
   "outputs": [],
   "source": [
    "#---let's visualize the expected value of our ads based on our priors\n",
    "\n",
    "a,b = initialization()\n",
    "\n",
    "fig = plt.figure(figsize=(10,8))\n",
    "x = np.linspace(0,0.1,100)\n",
    "for ad in ads:\n",
    "    y = beta.pdf(x,a[ad],b[ad])\n",
    "    plt.plot(x, y, color=col[ad], lw=3, alpha=0.6, label=ad)\n",
    "plt.xlabel('estimated CTRs')\n",
    "plt.ylabel('density')\n",
    "plt.legend()\n",
    "plt.show()"
   ]
  },
  {
   "cell_type": "markdown",
   "metadata": {},
   "source": [
    "### Simulations "
   ]
  },
  {
   "cell_type": "code",
   "execution_count": null,
   "metadata": {},
   "outputs": [],
   "source": [
    "tstart = time.time()\n",
    "\n",
    "#---nb of time periods\n",
    "T = 10000\n",
    "\n",
    "#---nb of replications (each replication runs over T time periods)\n",
    "R = 1000\n",
    "\n",
    "all_reward = {}\n",
    "all_regret = {}\n",
    "all_ctr_prior = {}\n",
    "all_a = {}\n",
    "all_b = {}\n",
    "\n",
    "for r in range(R):\n",
    "    all_reward[r],all_regret[r],all_ctr_prior[r],all_a[r],all_b[r] = TS()\n",
    "    \n",
    "tend = time.time()\n",
    "print('runtime',tend-tstart)"
   ]
  },
  {
   "cell_type": "markdown",
   "metadata": {},
   "source": [
    "### Computation of averages over replications "
   ]
  },
  {
   "cell_type": "code",
   "execution_count": null,
   "metadata": {},
   "outputs": [],
   "source": [
    "avg_reward = []\n",
    "avg_regret = []\n",
    "avg_ctr_prior = {ad:[] for ad in ads}\n",
    "avg_a = {ad:[] for ad in ads}\n",
    "avg_b = {ad:[] for ad in ads}\n",
    "\n",
    "for t in range(T):\n",
    "    avg_reward.append(np.mean([all_reward[r][t] for r in range(R)]))\n",
    "    avg_regret.append(np.mean([all_regret[r][t] for r in range(R)]))    \n",
    "    for ad in ads:        \n",
    "        avg_ctr_prior[ad].append(np.mean([all_ctr_prior[r][t][ad] for r in range(R)]))\n",
    "        \n",
    "for ad in ads:        \n",
    "    avg_a[ad] = np.mean([all_a[r][ad] for r in range(R)])\n",
    "    avg_b[ad] = np.mean([all_b[r][ad] for r in range(R)])"
   ]
  },
  {
   "cell_type": "code",
   "execution_count": null,
   "metadata": {},
   "outputs": [],
   "source": [
    "#---calculating estimated CTRs\n",
    "print('Advertiser\\tavg a\\tavg b\\tavg estimated CTR')\n",
    "print('------------\\t-----\\t-----\\t-----------------')\n",
    "for ad in ads:\n",
    "    print('%s\\t%.1f\\t%.1f\\t%.3f' % (ad,avg_a[ad],avg_b[ad],avg_a[ad]/(avg_a[ad]+avg_b[ad])))"
   ]
  },
  {
   "cell_type": "markdown",
   "metadata": {},
   "source": [
    "## 5. Results"
   ]
  },
  {
   "cell_type": "markdown",
   "metadata": {},
   "source": [
    "### Visualize estimated click-through rates (CTRs)"
   ]
  },
  {
   "cell_type": "code",
   "execution_count": null,
   "metadata": {},
   "outputs": [],
   "source": [
    "fig = plt.figure(figsize=(10,8))\n",
    "x = np.linspace(0,0.1,500)\n",
    "for ad in ads:\n",
    "    y = beta.pdf(x,avg_a[ad],avg_b[ad])\n",
    "    plt.plot(x, y, color=col[ad], lw=3, alpha=0.9, label=ad)\n",
    "plt.xlabel('estimated CTRs')\n",
    "plt.ylabel('density')\n",
    "plt.legend()\n",
    "plt.show()"
   ]
  },
  {
   "cell_type": "markdown",
   "metadata": {},
   "source": [
    "### Visualize the evolution of means of CTR priors over time periods"
   ]
  },
  {
   "cell_type": "code",
   "execution_count": null,
   "metadata": {},
   "outputs": [],
   "source": [
    "fig = plt.figure(figsize =(10,8)) \n",
    "plt.xlabel('time step')\n",
    "plt.ylabel('mean ctr_prior')\n",
    "TT = [t for t in range(1,T+1)]\n",
    "for ad in ads:\n",
    "    plt.plot(TT, avg_ctr_prior[ad], alpha=0.9, label=ad, color=col[ad])\n",
    "    plt.hlines(y=ctr_true[ad],xmin=0,xmax=T,lw=3,linestyle='--',color=col[ad],alpha=0.5)\n",
    "plt.legend()\n",
    "plt.show() "
   ]
  },
  {
   "cell_type": "markdown",
   "metadata": {},
   "source": [
    "### Visualize the evolution of regret over time periods"
   ]
  },
  {
   "cell_type": "code",
   "execution_count": null,
   "metadata": {},
   "outputs": [],
   "source": [
    "fig, ax = plt.subplots(figsize =(10,8)) \n",
    "plt.xlabel('time step')\n",
    "plt.ylabel('regret')\n",
    "TT = [t for t in range(1,T+1)]\n",
    "plt.plot(TT, avg_regret, alpha=0.9, label='TS', color='purple')\n",
    "plt.legend()\n",
    "plt.show()"
   ]
  }
